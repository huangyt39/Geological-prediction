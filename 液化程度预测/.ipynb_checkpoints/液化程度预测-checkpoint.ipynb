{
 "cells": [
  {
   "cell_type": "markdown",
   "metadata": {},
   "source": [
    "## 实验目的"
   ]
  },
  {
   "cell_type": "markdown",
   "metadata": {},
   "source": [
    "## 实验简介"
   ]
  },
  {
   "cell_type": "markdown",
   "metadata": {},
   "source": [
    "## 数据描述"
   ]
  },
  {
   "cell_type": "markdown",
   "metadata": {},
   "source": [
    "## 主要任务"
   ]
  },
  {
   "cell_type": "markdown",
   "metadata": {},
   "source": [
    "## 主要代码解释（代码结构，主要代码解释）"
   ]
  },
  {
   "cell_type": "code",
   "execution_count": 1,
   "metadata": {},
   "outputs": [],
   "source": [
    "import matplotlib.pyplot as plt\n",
    "from sklearn import neighbors\n",
    "from matplotlib.colors import ListedColormap\n",
    "import numpy as np\n",
    "from matplotlib.path import Path\n",
    "from matplotlib.patches import PathPatch\n",
    "import shapefile\n",
    "from pylab import mpl"
   ]
  },
  {
   "cell_type": "code",
   "execution_count": 2,
   "metadata": {},
   "outputs": [],
   "source": [
    "sfArea = shapefile.Reader('data/范围/范围.shp')\n",
    "sfPoint = shapefile.Reader('data/液化/液化.shp')"
   ]
  },
  {
   "cell_type": "code",
   "execution_count": 17,
   "metadata": {},
   "outputs": [],
   "source": [
    "#read index of points\n",
    "features = sfPoint.shapeRecords()[:]\n",
    "index = []\n",
    "for feature in features:\n",
    "    tmp = feature.shape.__geo_interface__['coordinates']\n",
    "    index.append(tmp)\n",
    "index = np.array(index)\n",
    "\n",
    "#read labels of points and translate to int\n",
    "#不详 不液化 中等 严重 轻微 液化 \n",
    "recds = sfPoint.records()\n",
    "set3, count3 = [], 0\n",
    "for i in recds:\n",
    "    if i[3] not in set3:\n",
    "        set3.append(i[3])\n",
    "        count3 += 1\n",
    "dic = {}\n",
    "for i in range(len(set3)):\n",
    "    dic[set3[i]] = i\n",
    "nums = np.array(recds[:], dtype=np.string_)[:, 2]\n",
    "labels = np.array(recds[:], dtype=np.string_)[:, 3]\n",
    "for i in range(len(set3)):\n",
    "    labels[labels == set3[i]] = i\n",
    "nums = nums.astype(np.float)\n",
    "labels = labels.astype(np.float)"
   ]
  },
  {
   "cell_type": "code",
   "execution_count": 19,
   "metadata": {},
   "outputs": [],
   "source": [
    "#create test data\n",
    "xx_min, xx_max = min(nums), max(nums)\n",
    "xx = np.arange(xx_min, xx_max, 0.01)\n",
    "nums = nums.reshape(-1, 1)\n",
    "labels = labels.reshape(-1, 1)"
   ]
  },
  {
   "cell_type": "code",
   "execution_count": 22,
   "metadata": {},
   "outputs": [
    {
     "data": {
      "image/png": "[encoded data removed]",
      "text/plain": [
       "<Figure size 432x288 with 1 Axes>"
      ]
     },
     "metadata": {
      "needs_background": "light"
     },
     "output_type": "display_data"
    }
   ],
   "source": [
    "#show data\n",
    "mpl.rcParams['font.sans-serif'] = ['FangSong'] # 指定默认字体\n",
    "fg = plt.figure()\n",
    "ax = plt.subplot(111)\n",
    "plt.scatter(nums[:], labels[:], c='b',s=0.01)\n",
    "ax.set_yticks([0.0, 1.0, 4.0, 2.0, 3.0, 5.0, 5.5])\n",
    "ax.set_yticklabels(labels=['不详','不液化','轻微','中等','严重','液化', \"\"])\n",
    "plt.savefig(\"./result/data.png\", dpi=300)\n",
    "plt.show()"
   ]
  },
  {
   "cell_type": "code",
   "execution_count": null,
   "metadata": {},
   "outputs": [],
   "source": [
    "#train model and predict\n",
    "knn = neighbors.KNeighborsClassifier()\n",
    "knn.fit(X, Y.ravel())"
   ]
  },
  {
   "cell_type": "markdown",
   "metadata": {},
   "source": [
    "## 案例总结"
   ]
  },
  {
   "cell_type": "markdown",
   "metadata": {},
   "source": [
    "## 操作练习"
   ]
  },
  {
   "cell_type": "markdown",
   "metadata": {},
   "source": [
    "## 参考资料"
   ]
  }
 ],
 "metadata": {
  "kernelspec": {
   "display_name": "Python 3",
   "language": "python",
   "name": "python3"
  },
  "language_info": {
   "codemirror_mode": {
    "name": "ipython",
    "version": 3
   },
   "file_extension": ".py",
   "mimetype": "text/x-python",
   "name": "python",
   "nbconvert_exporter": "python",
   "pygments_lexer": "ipython3",
   "version": "3.6.6"
  }
 },
 "nbformat": 4,
 "nbformat_minor": 2
}
