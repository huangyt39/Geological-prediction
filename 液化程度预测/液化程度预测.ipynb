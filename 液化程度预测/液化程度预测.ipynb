{
 "cells": [
  {
   "cell_type": "markdown",
   "metadata": {},
   "source": [
    "## 实验目的"
   ]
  },
  {
   "cell_type": "markdown",
   "metadata": {},
   "source": [
    "用给定的数据预测一定范围内的液化程度"
   ]
  },
  {
   "cell_type": "markdown",
   "metadata": {},
   "source": [
    "## 实验简介"
   ]
  },
  {
   "cell_type": "markdown",
   "metadata": {},
   "source": [
    "这是一个多分类问题，液化程度只与液化系数相关，可以用knn进行分类"
   ]
  },
  {
   "cell_type": "markdown",
   "metadata": {},
   "source": [
    "## 数据描述"
   ]
  },
  {
   "cell_type": "markdown",
   "metadata": {},
   "source": [
    "数据包括范围和点集，其中点集中的每个点给定坐标、该点的液化系数和液化程度\n",
    "\n",
    "数据散点图如下："
   ]
  },
  {
   "cell_type": "code",
   "execution_count": 51,
   "metadata": {},
   "outputs": [
    {
     "data": {
      "image/png": "[encoded data removed]",
      "text/plain": [
       "<Figure size 432x288 with 1 Axes>"
      ]
     },
     "metadata": {
      "needs_background": "light"
     },
     "output_type": "display_data"
    }
   ],
   "source": [
    "import matplotlib.pyplot as plt\n",
    "from matplotlib.colors import ListedColormap\n",
    "import numpy as np\n",
    "import shapefile\n",
    "from pylab import mpl\n",
    "\n",
    "sfPoint = shapefile.Reader('data/液化/液化.shp')\n",
    "\n",
    "#read index of points\n",
    "features = sfPoint.shapeRecords()[:]\n",
    "index = []\n",
    "for feature in features:\n",
    "    tmp = feature.shape.__geo_interface__['coordinates']\n",
    "    index.append(tmp)\n",
    "index = np.array(index)\n",
    "\n",
    "#read labels of points and translate to int\n",
    "#不详 不液化 中等 严重 轻微 液化 \n",
    "recds = sfPoint.records()\n",
    "set3, count3 = [], 0\n",
    "for i in recds:\n",
    "    if i[3] not in set3:\n",
    "        set3.append(i[3])\n",
    "        count3 += 1\n",
    "dic = {}\n",
    "for i in range(len(set3)):\n",
    "    dic[set3[i]] = i\n",
    "nums = np.array(recds[:], dtype=np.string_)[:, 2]\n",
    "labels = np.array(recds[:], dtype=np.string_)[:, 3]\n",
    "for i in range(len(set3)):\n",
    "    labels[labels == set3[i]] = i\n",
    "nums = nums.astype(np.float)\n",
    "labels = labels.astype(np.float)\n",
    "#show data\n",
    "mpl.rcParams['font.sans-serif'] = ['FangSong'] # 指定默认字体\n",
    "fg = plt.figure()\n",
    "ax = plt.subplot(111)\n",
    "plt.scatter(nums[:], labels[:], c='b',s=0.01)\n",
    "ax.set_yticks([-0.5, 0.0, 1.0, 4.0, 2.0, 3.0, 5.0, 5.5])\n",
    "ax.set_yticklabels(labels=['', '不详','不液化','轻微','中等','严重','液化', \"\"])\n",
    "figure_fig = plt.gcf()  # 'get current figure'\n",
    "figure_fig.savefig('./result/data.eps', format='eps', dpi=1000)\n",
    "figure_fig.savefig('./result/data.jpg', format='jpg', dpi=1000)\n",
    "plt.show()"
   ]
  },
  {
   "cell_type": "markdown",
   "metadata": {},
   "source": [
    "## 主要任务"
   ]
  },
  {
   "cell_type": "markdown",
   "metadata": {},
   "source": [
    "用knn训练给定数据，预测给定范围内的坐标点的液化程度，转换为图片展示出来"
   ]
  },
  {
   "cell_type": "markdown",
   "metadata": {},
   "source": [
    "## 主要代码解释（代码结构，主要代码解释）"
   ]
  },
  {
   "cell_type": "markdown",
   "metadata": {},
   "source": [
    "### 代码结构\n",
    "\n",
    "1)导入相关库\n",
    "\n",
    "2)从shp文件中读入数据，并整理其格式方便后续操作\n",
    "\n",
    "3)计算给定范围坐标点的最大最小值，生成测试点的坐标即测试数据\n",
    "\n",
    "4)训练svc模型，输入测试数据进行预测，根据预测结果进行调参\n",
    "\n",
    "5)展示结果并保存图片\n",
    "\n",
    "6)对训练结果进行准确性评分"
   ]
  },
  {
   "cell_type": "markdown",
   "metadata": {},
   "source": [
    "### 主要代码及注释"
   ]
  },
  {
   "cell_type": "markdown",
   "metadata": {},
   "source": [
    "#### 导入相关库"
   ]
  },
  {
   "cell_type": "code",
   "execution_count": 57,
   "metadata": {},
   "outputs": [],
   "source": [
    "import matplotlib.pyplot as plt\n",
    "from sklearn import neighbors\n",
    "from matplotlib.colors import ListedColormap\n",
    "import numpy as np\n",
    "from matplotlib.path import Path\n",
    "from matplotlib.patches import PathPatch\n",
    "import shapefile\n",
    "from pylab import mpl\n",
    "from sklearn.metrics import accuracy_score"
   ]
  },
  {
   "cell_type": "markdown",
   "metadata": {},
   "source": [
    "#### 从shp文件中导入数据，转换为array结构"
   ]
  },
  {
   "cell_type": "code",
   "execution_count": 40,
   "metadata": {},
   "outputs": [],
   "source": [
    "sfArea = shapefile.Reader('data/范围/范围.shp')\n",
    "sfPoint = shapefile.Reader('data/液化/液化.shp')"
   ]
  },
  {
   "cell_type": "code",
   "execution_count": 41,
   "metadata": {},
   "outputs": [],
   "source": [
    "#read index of points\n",
    "features = sfPoint.shapeRecords()[:]\n",
    "index = []\n",
    "for feature in features:\n",
    "    tmp = feature.shape.__geo_interface__['coordinates']\n",
    "    index.append(tmp)\n",
    "index = np.array(index)\n",
    "\n",
    "#read labels of points and translate to int\n",
    "#不详 不液化 中等 严重 轻微 液化 \n",
    "recds = sfPoint.records()\n",
    "set3, count3 = [], 0\n",
    "for i in recds:\n",
    "    if i[3] not in set3:\n",
    "        set3.append(i[3])\n",
    "        count3 += 1\n",
    "dic = {}\n",
    "for i in range(len(set3)):\n",
    "    dic[set3[i]] = i\n",
    "nums = np.array(recds[:], dtype=np.string_)[:, 2]\n",
    "labels = np.array(recds[:], dtype=np.string_)[:, 3]\n",
    "for i in range(len(set3)):\n",
    "    labels[labels == set3[i]] = i\n",
    "nums = nums.astype(np.float)\n",
    "labels = labels.astype(np.float)"
   ]
  },
  {
   "cell_type": "markdown",
   "metadata": {},
   "source": [
    "#### 计算最大最小值，生成测试数据"
   ]
  },
  {
   "cell_type": "code",
   "execution_count": 53,
   "metadata": {},
   "outputs": [],
   "source": [
    "#create test data\n",
    "xx_min, xx_max = min(nums), max(nums)\n",
    "xx = np.arange(xx_min, xx_max, 0.01)\n",
    "nums = nums.reshape(-1, 1)\n",
    "labels = labels.reshape(-1, 1)"
   ]
  },
  {
   "cell_type": "markdown",
   "metadata": {},
   "source": [
    "#### 训练svc模型，导入测试数据进行预测"
   ]
  },
  {
   "cell_type": "markdown",
   "metadata": {},
   "source": [
    "将不详作为预测结果的一类"
   ]
  },
  {
   "cell_type": "code",
   "execution_count": 54,
   "metadata": {},
   "outputs": [],
   "source": [
    "#train model and predict\n",
    "knn = neighbors.KNeighborsClassifier()\n",
    "knn.fit(nums, labels.ravel())\n",
    "predict = knn.predict(xx.reshape(-1, 1))"
   ]
  },
  {
   "cell_type": "markdown",
   "metadata": {},
   "source": [
    "#### 用matplotlib画图"
   ]
  },
  {
   "cell_type": "code",
   "execution_count": 55,
   "metadata": {},
   "outputs": [
    {
     "data": {
      "image/png": "[encoded data removed]",
      "text/plain": [
       "<Figure size 432x288 with 1 Axes>"
      ]
     },
     "metadata": {
      "needs_background": "light"
     },
     "output_type": "display_data"
    }
   ],
   "source": [
    "#show result\n",
    "fg = plt.figure()\n",
    "ax = plt.subplot(111)\n",
    "plt.scatter(xx[:], predict[:], c='b',s=0.01)\n",
    "ax.set_yticks([-0.5, 0.0, 1.0, 4.0, 2.0, 3.0, 5.0, 5.5])\n",
    "ax.set_yticklabels(labels=['', '不详','不液化','轻微','中等','严重','液化', \"\"])\n",
    "figure_fig = plt.gcf()  # 'get current figure'\n",
    "figure_fig.savefig('./result/result1.eps', format='eps', dpi=1000)\n",
    "figure_fig.savefig('./result/result1.jpg', format='jpg', dpi=1000)\n",
    "plt.show()"
   ]
  },
  {
   "cell_type": "markdown",
   "metadata": {},
   "source": [
    "#### 对预测精确度进行评分"
   ]
  },
  {
   "cell_type": "code",
   "execution_count": 60,
   "metadata": {},
   "outputs": [
    {
     "name": "stdout",
     "output_type": "stream",
     "text": [
      "Accuracy:  0.6905703371087729\n"
     ]
    }
   ],
   "source": [
    "#caculate the accuracy score\n",
    "y_true = np.copy(labels)\n",
    "y_pred = np.array(knn.predict(nums))\n",
    "print(\"Accuracy: \", accuracy_score(y_true=y_true, y_pred=y_pred))"
   ]
  },
  {
   "cell_type": "markdown",
   "metadata": {},
   "source": [
    "不将不详作为预测结果的一类"
   ]
  },
  {
   "cell_type": "code",
   "execution_count": 62,
   "metadata": {},
   "outputs": [],
   "source": [
    "#remove part of train data\n",
    "nums = nums[labels != 0.0]\n",
    "labels = labels[labels != 0.0]\n",
    "\n",
    "#create test data\n",
    "xx_min, xx_max = min(nums), max(nums)\n",
    "xx = np.arange(xx_min, xx_max, 0.01)\n",
    "nums = nums.reshape(-1, 1)\n",
    "labels = labels.reshape(-1, 1)"
   ]
  },
  {
   "cell_type": "code",
   "execution_count": 63,
   "metadata": {},
   "outputs": [],
   "source": [
    "#train model and predict\n",
    "knn = neighbors.KNeighborsClassifier()\n",
    "knn.fit(nums, labels.ravel())\n",
    "predict = knn.predict(xx.reshape(-1, 1))"
   ]
  },
  {
   "cell_type": "markdown",
   "metadata": {},
   "source": [
    "#### 用matplotlib画图"
   ]
  },
  {
   "cell_type": "code",
   "execution_count": 64,
   "metadata": {},
   "outputs": [
    {
     "data": {
      "image/png": "[encoded data removed]",
      "text/plain": [
       "<Figure size 432x288 with 1 Axes>"
      ]
     },
     "metadata": {
      "needs_background": "light"
     },
     "output_type": "display_data"
    }
   ],
   "source": [
    "#show result\n",
    "fg = plt.figure()\n",
    "ax = plt.subplot(111)\n",
    "plt.scatter(xx[:], predict[:], c='b',s=0.01)\n",
    "ax.set_yticks([0.0, 1.0, 4.0, 2.0, 3.0, 5.0, 5.5])\n",
    "ax.set_yticklabels(labels=['', '不液化','轻微','中等','严重','液化', \"\"])\n",
    "figure_fig = plt.gcf()  # 'get current figure'\n",
    "figure_fig.savefig('./result/result2.eps', format='eps', dpi=1000)\n",
    "figure_fig.savefig('./result/result2.jpg', format='jpg', dpi=1000)\n",
    "plt.show()\n",
    "plt.show()"
   ]
  },
  {
   "cell_type": "markdown",
   "metadata": {},
   "source": [
    "#### 对预测精确度进行评分"
   ]
  },
  {
   "cell_type": "code",
   "execution_count": 65,
   "metadata": {},
   "outputs": [
    {
     "name": "stdout",
     "output_type": "stream",
     "text": [
      "Accuracy:  0.7115559599636033\n"
     ]
    }
   ],
   "source": [
    "#caculate the accuracy score\n",
    "y_true = np.copy(labels)\n",
    "y_pred = np.array(knn.predict(nums))\n",
    "print(\"Accuracy: \", accuracy_score(y_true=y_true, y_pred=y_pred))"
   ]
  },
  {
   "cell_type": "markdown",
   "metadata": {},
   "source": [
    "## 案例总结"
   ]
  },
  {
   "cell_type": "markdown",
   "metadata": {},
   "source": [
    "本案例的难点在于：shp文件的读取 切割边缘\n",
    "\n",
    "解决方法\n",
    "\n",
    " - shp文件的读取：导入shapefile库进行读取，能够方便的读取点的坐标信息和属性\n",
    " \n",
    " - 切割边缘：从shp文件中读取形状数据，然后将形状中的点首尾相连，再用set_clip_path函数进行切割"
   ]
  },
  {
   "cell_type": "markdown",
   "metadata": {},
   "source": [
    "## 参考资料"
   ]
  },
  {
   "cell_type": "markdown",
   "metadata": {},
   "source": [
    " - 《利用Python进行数据分析》\n",
    " - [Reads and writes ESRI Shapefiles][2]\n",
    " - [matplotlib basemap 绘制多边形区域曲线][3]\n",
    "\n",
    "  [1]: https://www.cnblogs.com/nwpuxuezha/p/6618205.html\n",
    "  [2]: https://github.com/GeospatialPython/pyshp\n",
    "  [3]: https://blog.csdn.net/u011077672/article/details/77753300\n",
    "  [4]:https://blog.csdn.net/ericcchen/article/details/79334042\n",
    "  [5]:https://www.cnblogs.com/pinard/p/6126077.html"
   ]
  }
 ],
 "metadata": {
  "kernelspec": {
   "display_name": "Python 3",
   "language": "python",
   "name": "python3"
  },
  "language_info": {
   "codemirror_mode": {
    "name": "ipython",
    "version": 3
   },
   "file_extension": ".py",
   "mimetype": "text/x-python",
   "name": "python",
   "nbconvert_exporter": "python",
   "pygments_lexer": "ipython3",
   "version": "3.6.6"
  }
 },
 "nbformat": 4,
 "nbformat_minor": 2
}
