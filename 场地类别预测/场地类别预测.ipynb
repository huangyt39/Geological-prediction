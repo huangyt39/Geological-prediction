{
 "cells": [
  {
   "cell_type": "markdown",
   "metadata": {},
   "source": [
    "## 实验目的"
   ]
  },
  {
   "cell_type": "markdown",
   "metadata": {},
   "source": [
    "用给定的数据预测给定范围内的场地类别"
   ]
  },
  {
   "cell_type": "markdown",
   "metadata": {},
   "source": [
    "## 实验简介"
   ]
  },
  {
   "cell_type": "markdown",
   "metadata": {},
   "source": [
    "这是一个多分类的问题，场地类别与所在的坐标有关，并且结果需要用图像表示出来，易得可以适合用svc进行分类"
   ]
  },
  {
   "cell_type": "markdown",
   "metadata": {},
   "source": [
    "## 数据描述"
   ]
  },
  {
   "cell_type": "markdown",
   "metadata": {},
   "source": [
    "数据包括范围和点集，其中点集中的每个点给定坐标和该点的场地类别\n",
    "\n",
    "数据散点图如下："
   ]
  },
  {
   "cell_type": "code",
   "execution_count": 2,
   "metadata": {},
   "outputs": [
    {
     "data": {
      "image/png": "[encoded data removed]",
      "text/plain": [
       "<Figure size 432x288 with 1 Axes>"
      ]
     },
     "metadata": {
      "needs_background": "light"
     },
     "output_type": "display_data"
    }
   ],
   "source": [
    "import matplotlib.pyplot as plt\n",
    "from matplotlib.colors import ListedColormap\n",
    "import numpy as np\n",
    "import shapefile\n",
    "from pylab import mpl\n",
    "\n",
    "sfPoint = shapefile.Reader('data/场地类别/场地类别.shp')\n",
    "\n",
    "#read index of points\n",
    "features = sfPoint.shapeRecords()[:]\n",
    "index = []\n",
    "for feature in features:\n",
    "    tmp = feature.shape.__geo_interface__['coordinates']\n",
    "    index.append(tmp)\n",
    "index = np.array(index)\n",
    "#read labels of points and translate to int\n",
    "labels = []\n",
    "dic = {b'\\xa2\\xf3':1, b'\\xa2\\xf2':2, b'\\xa2\\xf11':3}\n",
    "size = len(sfPoint.records())\n",
    "rec = sfPoint.records()\n",
    "for i in range(size):\n",
    "    labels.append(dic[rec[i][3]])\n",
    "labels = np.array(labels)\n",
    "\n",
    "# Plot the training points\n",
    "fig = plt.figure()\n",
    "ax = fig.add_subplot(111)\n",
    "plt.scatter(index[:, 0], index[:, 1], c=labels, cmap=plt.cm.gist_earth, s=1, alpha=2)\n",
    "mpl.rcParams['font.sans-serif'] = ['FangSong']\n",
    "plt.xlabel(\"黄色：类别1 绿色：类别2 蓝色：类别3\")\n",
    "\n",
    "#save and show figure\n",
    "figure_fig = plt.gcf()  # 'get current figure'\n",
    "figure_fig.savefig('./result/data.eps', format='eps', dpi=1000)\n",
    "figure_fig.savefig('./result/data.jpg', format='jpg', dpi=1000)\n",
    "plt.show()"
   ]
  },
  {
   "cell_type": "markdown",
   "metadata": {},
   "source": [
    "## 主要任务"
   ]
  },
  {
   "cell_type": "markdown",
   "metadata": {},
   "source": [
    "用SVM训练给定数据，预测给定范围内的坐标点的场地类别，转换为图片展示出来"
   ]
  },
  {
   "cell_type": "markdown",
   "metadata": {},
   "source": [
    "## 主要代码解释"
   ]
  },
  {
   "cell_type": "markdown",
   "metadata": {},
   "source": [
    "### 代码结构\n",
    "\n",
    "1)导入相关库\n",
    "\n",
    "2)从shp文件中读入数据，并整理其格式方便后续操作\n",
    "\n",
    "3)计算给定范围坐标点的最大最小值，生成测试点的坐标即测试数据\n",
    "\n",
    "4)训练svc模型，输入测试数据进行预测，根据预测结果进行调参\n",
    "\n",
    "5)展示结果并保存图片\n",
    "\n",
    "6)对训练结果进行准确性评分"
   ]
  },
  {
   "cell_type": "markdown",
   "metadata": {},
   "source": [
    "### 主要代码及注释"
   ]
  },
  {
   "cell_type": "markdown",
   "metadata": {},
   "source": [
    "#### 导入相关库"
   ]
  },
  {
   "cell_type": "code",
   "execution_count": 3,
   "metadata": {},
   "outputs": [],
   "source": [
    "import matplotlib.pyplot as plt\n",
    "from sklearn.svm import SVC\n",
    "from matplotlib.colors import ListedColormap\n",
    "import numpy as np\n",
    "from matplotlib.path import Path\n",
    "from matplotlib.patches import PathPatch\n",
    "import shapefile\n",
    "from pylab import mpl\n",
    "from sklearn.metrics import accuracy_score"
   ]
  },
  {
   "cell_type": "markdown",
   "metadata": {},
   "source": [
    "#### 从shp文件中导入数据，转换为array结构"
   ]
  },
  {
   "cell_type": "code",
   "execution_count": 4,
   "metadata": {},
   "outputs": [],
   "source": [
    "sfArea = shapefile.Reader('data/范围/范围.shp')\n",
    "sfPoint = shapefile.Reader('data/场地类别/场地类别.shp')"
   ]
  },
  {
   "cell_type": "code",
   "execution_count": 5,
   "metadata": {},
   "outputs": [],
   "source": [
    "#read index of points\n",
    "features = sfPoint.shapeRecords()[:]\n",
    "index = []\n",
    "for feature in features:\n",
    "    tmp = feature.shape.__geo_interface__['coordinates']\n",
    "    index.append(tmp)\n",
    "index = np.array(index)\n",
    "\n",
    "#read labels of points and translate to int\n",
    "labels = []\n",
    "dic = {b'\\xa2\\xf3':1, b'\\xa2\\xf2':2, b'\\xa2\\xf11':3}\n",
    "size = len(sfPoint.records())\n",
    "rec = sfPoint.records()\n",
    "for i in range(size):\n",
    "    labels.append(dic[rec[i][3]])\n",
    "labels = np.array(labels)"
   ]
  },
  {
   "cell_type": "markdown",
   "metadata": {},
   "source": [
    "#### 计算最大最小值，生成测试数据"
   ]
  },
  {
   "cell_type": "code",
   "execution_count": 6,
   "metadata": {},
   "outputs": [],
   "source": [
    "#create test data\n",
    "x_min, x_max = index[:, 0].min() - 0.02, index[:, 0].max() + 0.05\n",
    "y_min, y_max = index[:, 1].min() - 0.04, index[:, 1].max() + 0.05\n",
    "xx, yy = np.meshgrid(np.arange(x_min, x_max,0.003),np.arange(y_min, y_max, 0.003))"
   ]
  },
  {
   "cell_type": "markdown",
   "metadata": {},
   "source": [
    "#### 训练svc模型，导入测试数据进行预测"
   ]
  },
  {
   "cell_type": "code",
   "execution_count": 7,
   "metadata": {},
   "outputs": [],
   "source": [
    "#train model and predict\n",
    "clf = SVC(C=10, gamma=8000, class_weight='balanced')\n",
    "clf.fit(index,labels)\n",
    "Z = clf.predict(np.c_[xx.ravel(), yy.ravel()])"
   ]
  },
  {
   "cell_type": "markdown",
   "metadata": {},
   "source": [
    "#### 用matplotlib画图"
   ]
  },
  {
   "cell_type": "code",
   "execution_count": 8,
   "metadata": {},
   "outputs": [
    {
     "data": {
      "image/png": "[encoded data removed]",
      "text/plain": [
       "<Figure size 432x288 with 1 Axes>"
      ]
     },
     "metadata": {
      "needs_background": "light"
     },
     "output_type": "display_data"
    }
   ],
   "source": [
    "# Put the result into a color plot\n",
    "Z = Z.reshape(xx.shape)\n",
    "fig = plt.figure()\n",
    "ax = fig.add_subplot(111)\n",
    "cont = plt.contourf(xx, yy, Z, cmap=plt.cm.gist_earth, alpha=0.6)\n",
    "    \n",
    "# Plot also the training points\n",
    "plt.scatter(index[:, 0], index[:, 1], c=labels, cmap=plt.cm.gist_earth, s=1, alpha=2.5)\n",
    "\n",
    "#translate the area to a path and clip\n",
    "shape_rec = sfArea.shapeRecords()[-1]\n",
    "vertices = []\n",
    "codes = []\n",
    "pts = shape_rec.shape.points\n",
    "prt = list(shape_rec.shape.parts) + [len(pts)]\n",
    "for i in range(len(prt) - 1):\n",
    "    for j in range(prt[i], prt[i+1]):\n",
    "        vertices.append((pts[j][0], pts[j][1]))\n",
    "    codes += [Path.MOVETO]\n",
    "    codes += [Path.LINETO] * (prt[i+1] - prt[i] -2)\n",
    "    codes += [Path.CLOSEPOLY]\n",
    "clip = Path(vertices, codes)\n",
    "clip = PathPatch(clip, transform=ax.transData, edgecolor='k')\n",
    "for col in cont.collections:\n",
    "    col.set_clip_path(clip)\n",
    "\n",
    "#set the limit of x y\n",
    "plt.xlim(xx.min(), xx.max())\n",
    "plt.ylim(yy.min(), yy.max())\n",
    "    \n",
    "#set labels\n",
    "mpl.rcParams['font.sans-serif'] = ['FangSong']\n",
    "plt.xlabel(\"黄色：类别1 绿色：类别2 蓝色：类别3\")\n",
    "\n",
    "#save result and show figure\n",
    "figure_fig = plt.gcf()  # 'get current figure'\n",
    "figure_fig.savefig('./result/result.eps', format='eps', dpi=1000)\n",
    "figure_fig.savefig('./result/result.jpg', format='jpg', dpi=1000)\n",
    "plt.show()"
   ]
  },
  {
   "cell_type": "markdown",
   "metadata": {},
   "source": [
    "#### 对预测精确度进行评分"
   ]
  },
  {
   "cell_type": "code",
   "execution_count": 9,
   "metadata": {},
   "outputs": [
    {
     "name": "stdout",
     "output_type": "stream",
     "text": [
      "Accuracy:  0.971042471042471\n"
     ]
    }
   ],
   "source": [
    "#caculate the accuracy score\n",
    "y_true = np.copy(labels)\n",
    "y_pred = np.array(clf.predict(index[:]))\n",
    "print(\"Accuracy: \", accuracy_score(y_true=y_true, y_pred=y_pred))"
   ]
  },
  {
   "cell_type": "markdown",
   "metadata": {},
   "source": [
    "## 案例总结"
   ]
  },
  {
   "cell_type": "markdown",
   "metadata": {},
   "source": [
    "本案例的难点在于：shp文件的读取 调参 切割边缘 各个类别的数据量不平衡\n",
    "\n",
    "解决方法\n",
    "\n",
    " - shp文件的读取：导入shapefile库进行读取，能够方便的读取点的坐标信息和属性\n",
    " \n",
    " - 调参：使用sklearn中的GridSearchCV函数，结合对结果图片效果的比较进行参数的选取\n",
    " \n",
    " - 切割边缘：从shp文件中读取形状数据，然后将形状中的点首尾相连，再用set_clip_path函数进行切割\n",
    " \n",
    " - 各个类别的数据量不平衡：在svc中添加class_weight='balanced'参数"
   ]
  },
  {
   "cell_type": "markdown",
   "metadata": {},
   "source": [
    "## 参考资料"
   ]
  },
  {
   "cell_type": "markdown",
   "metadata": {},
   "source": [
    " - 《利用Python进行数据分析》\n",
    " - [Python超参数自动搜索模块GridSearchCV][1]\n",
    " - [Reads and writes ESRI Shapefiles][2]\n",
    " - [matplotlib basemap 绘制多边形区域曲线][3]\n",
    " - [SVM 解决类别不平衡问题(scikit_learn)][4]\n",
    " - [支持向量机高斯核调参小结][5]\n",
    "\n",
    "  [1]: https://www.cnblogs.com/nwpuxuezha/p/6618205.html\n",
    "  [2]: https://github.com/GeospatialPython/pyshp\n",
    "  [3]: https://blog.csdn.net/u011077672/article/details/77753300\n",
    "  [4]:https://blog.csdn.net/ericcchen/article/details/79334042\n",
    "  [5]:https://www.cnblogs.com/pinard/p/6126077.html"
   ]
  }
 ],
 "metadata": {
  "kernelspec": {
   "display_name": "Python 3",
   "language": "python",
   "name": "python3"
  },
  "language_info": {
   "codemirror_mode": {
    "name": "ipython",
    "version": 3
   },
   "file_extension": ".py",
   "mimetype": "text/x-python",
   "name": "python",
   "nbconvert_exporter": "python",
   "pygments_lexer": "ipython3",
   "version": "3.6.6"
  }
 },
 "nbformat": 4,
 "nbformat_minor": 2
}
